{
 "cells": [
  {
   "cell_type": "code",
   "execution_count": null,
   "metadata": {
    "collapsed": true
   },
   "outputs": [],
   "source": [
    "in_file = open(\"/Users/yeechau/Downloads/cocoli.txt\")\n",
    "\n",
    "in_file.readline()\n",
    "# set up empty dictionaries\n",
    "sizes_94 = {}\n",
    "sizes_97 = {}\n",
    "sizes_98 = {}\n",
    "\n",
    "for line in in_file:\n",
    "    items = line.split()\n",
    "    tree_id = items [0]\n",
    "    size_in_94 = float(items[4])\n",
    "    size_in_97 = float(items[5])\n",
    "    size_in_98 = float(items[6])\n",
    "    # populate dicts\n",
    "    sizes_94[tree_id]= size_in_94\n",
    "    sizes_97[tree_id]= size_in_97\n",
    "    sizes_98[tree_id]= size_in_98\n",
    "in_file.close()"
   ]
  },
  {
   "cell_type": "code",
   "execution_count": null,
   "metadata": {
    "collapsed": true
   },
   "outputs": [],
   "source": [
    "import matplotlib.pyplot as plt\n",
    "\n",
    "#plot some histograms\n",
    "size_in_94 = list(sizes_94.values())\n",
    "plt.hist(size_in_94, log = True)\n",
    "plt.show()"
   ]
  },
  {
   "cell_type": "code",
   "execution_count": null,
   "metadata": {
    "collapsed": true
   },
   "outputs": [],
   "source": [
    "f, (ax1, ax2) = plt.subplots (1, 2, sharex = True)\n",
    "ax1.hist(size_in_94, log = False)\n",
    "ax1.set_title(\"Unlogged Graph\")\n",
    "ax2.hist(size_in_94, log = True)\n",
    "ax2.set_title(\"Logged Graph\")\n",
    "plt.show()"
   ]
  },
  {
   "cell_type": "code",
   "execution_count": null,
   "metadata": {
    "collapsed": true
   },
   "outputs": [],
   "source": [
    "temp=[]\n",
    "size_in_94[:]=(value for value in size_in_94 if value !=-2)\n",
    "\n",
    "f, (ax1,ax2)= plt.subplots(1,2, sharex= True)\n",
    "ax1.hist(temp, log= False)\n",
    "ax1.set_title('Unlogged - removed -2')\n",
    "ax2.hist(temp, log=True)\n",
    "ax2.set_title('Logged - removed -2')\n",
    "plt.show()"
   ]
  },
  {
   "cell_type": "code",
   "execution_count": null,
   "metadata": {
    "collapsed": true
   },
   "outputs": [],
   "source": [
    "temp=[]\n",
    "size_in_94[:]=(value for value in size_in_94 if value ! = -1 and value ! = -2)\n",
    "\n",
    "f, (ax1,ax2)= plt.subplots(1,2, sharex= True)\n",
    "ax1.hist(temp, log= False)\n",
    "ax1.set_title('Unlogged - removed -1 & -2')\n",
    "ax2.hist(temp, log=True)\n",
    "ax2.set_title('Logged - removed -1 & -2')\n",
    "plt.show()"
   ]
  },
  {
   "cell_type": "code",
   "execution_count": null,
   "metadata": {
    "collapsed": true
   },
   "outputs": [],
   "source": [
    "sizes_in_94 = list(size_94.values())\n",
    "sizes_in_97 = list(size_97.values())\n",
    "temp_97=[]\n",
    "temp_94=[]\n",
    "\n",
    "#temp_94[:]= (value for value in sizes_in_94 if value != -1 and value != -2) & same for if it was temp_97\n",
    "import matplotlib.pyplot as plt\n",
    "plt.plot(sizes_in_94, sizes_in_97, 'ro')\n",
    "\n",
    "plt.show()"
   ]
  }
 ],
 "metadata": {
  "kernelspec": {
   "display_name": "Python 3",
   "language": "python",
   "name": "python3"
  },
  "language_info": {
   "codemirror_mode": {
    "name": "ipython",
    "version": 3
   },
   "file_extension": ".py",
   "mimetype": "text/x-python",
   "name": "python",
   "nbconvert_exporter": "python",
   "pygments_lexer": "ipython3",
   "version": "3.6.0"
  }
 },
 "nbformat": 4,
 "nbformat_minor": 2
}
