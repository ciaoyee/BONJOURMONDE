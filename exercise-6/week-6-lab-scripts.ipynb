{
 "cells": [
  {
   "cell_type": "markdown",
   "metadata": {},
   "source": [
    "### my-first-script.py"
   ]
  },
  {
   "cell_type": "code",
   "execution_count": null,
   "metadata": {
    "collapsed": false
   },
   "outputs": [],
   "source": [
    "print (\"Hello world! I'm using python!\")\n",
    "var1= 2+3\n",
    "print (\"var1 is \" + str(var1))"
   ]
  },
  {
   "cell_type": "markdown",
   "metadata": {},
   "source": [
    "### name_fav.py"
   ]
  },
  {
   "cell_type": "code",
   "execution_count": null,
   "metadata": {
    "collapsed": false
   },
   "outputs": [],
   "source": [
    "# import in the sys module that contains the function argv\n",
    "import sys\n",
    "\n",
    "# define variables\n",
    "name = sys.argv[1]\n",
    "fav_fruit = sys.argv[2]\n",
    "\n",
    "# print a sentence using the variables\n",
    "print(\"Hi. My name is \"+ name + \", I like \" + fav_fruit)\n",
    "\n",
    "# Can run the the command python ./name_fav.py Yee Strawberries, and the sentence \"Hi, name is Yee, I like Strawberries\" is printed to the terminal"
   ]
  },
  {
   "cell_type": "markdown",
   "metadata": {},
   "source": [
    "### first_line_reader.py"
   ]
  },
  {
   "cell_type": "code",
   "execution_count": null,
   "metadata": {
    "collapsed": true
   },
   "outputs": [],
   "source": [
    "import sys\n",
    "file_to_read = sys.argv[1]\n",
    "in_file = open(file_to_read)\n",
    "\n",
    "print(\"The first line of the file \" + file_to_read + \" is \\n\" + in_file.readline())\n",
    "in_file.close()"
   ]
  },
  {
   "cell_type": "markdown",
   "metadata": {},
   "source": [
    "### ebird_summarizer.sh"
   ]
  },
  {
   "cell_type": "code",
   "execution_count": null,
   "metadata": {
    "collapsed": true
   },
   "outputs": [],
   "source": [
    "! /bin/bash\n",
    "# the next line will create a new file called formatted_eBird_data.csv\n",
    "replace_newlines.sh eBird_data.csv\n",
    "# the next line will replace all extra commas and will replace the contents of formatted_eBird_data.csv\n",
    "sed 's/,\\s/ /g` formatted_eBird_data.csv > reformatted_eBird_data.csv\n",
    "python does_something.py reformatted_eBird_data.csv"
   ]
  },
  {
   "cell_type": "markdown",
   "metadata": {},
   "source": [
    "### does_something.py"
   ]
  },
  {
   "cell_type": "code",
   "execution_count": null,
   "metadata": {
    "collapsed": true
   },
   "outputs": [],
   "source": [
    "#! /bin/bash\n",
    "# the next line will create a new file called formatted_eBird_data.csv\n",
    "replace_newlines.sh eBird_data.csv\n",
    "# the next line will replace all extra commas and will replace the contents of formatted_eBird_data.csv\n",
    "sed 's/,\\s/ /g` formatted_eBird_data.csv > reformatted_eBird_data.csv\n",
    "python does_something.py reformatted_eBird_data.csv"
   ]
  }
 ],
 "metadata": {
  "kernelspec": {
   "display_name": "Python 3",
   "language": "python",
   "name": "python3"
  },
  "language_info": {
   "codemirror_mode": {
    "name": "ipython",
    "version": 3
   },
   "file_extension": ".py",
   "mimetype": "text/x-python",
   "name": "python",
   "nbconvert_exporter": "python",
   "pygments_lexer": "ipython3",
   "version": "3.6.0"
  }
 },
 "nbformat": 4,
 "nbformat_minor": 2
}
