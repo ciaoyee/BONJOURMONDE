{
 "cells": [
  {
   "cell_type": "markdown",
   "metadata": {},
   "source": [
    "How many fossils are included in the dataset? *2946* **wc -l canidae_occ.csv**\n",
    "\n",
    "How many fossils have been identified to genus-level only? *614* **tail -n+2 canidae_occ.csv | cut -d \",\" -f 7 | grep \"genus\"| wc -l**\n",
    "\n",
    "How many to species-level? *2107* **tail -n+2 canidae_occ.csv | cut -d \",\" -f 7 | grep \"species\"| wc -l**\n",
    "\n",
    "How many unique accepted names are part of this dataset? *211* **tail -n+2 canidae_occ.csv | cut -d \",\" -f 6 | sort | uniq | wc -l**"
   ]
  },
  {
   "cell_type": "code",
   "execution_count": null,
   "metadata": {
    "collapsed": true
   },
   "outputs": [],
   "source": []
  }
 ],
 "metadata": {
  "kernelspec": {
   "display_name": "Python 3",
   "language": "python",
   "name": "python3"
  },
  "language_info": {
   "codemirror_mode": {
    "name": "ipython",
    "version": 3
   },
   "file_extension": ".py",
   "mimetype": "text/x-python",
   "name": "python",
   "nbconvert_exporter": "python",
   "pygments_lexer": "ipython3",
   "version": "3.6.0"
  }
 },
 "nbformat": 4,
 "nbformat_minor": 2
}
