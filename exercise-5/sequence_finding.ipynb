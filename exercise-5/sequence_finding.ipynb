{
 "cells": [
  {
   "cell_type": "code",
   "execution_count": null,
   "metadata": {
    "collapsed": true
   },
   "outputs": [],
   "source": [
    "# Sequence finding loop\n",
    "\n",
    "myfile = open ('/home/eeb177-student/Desktop/CSB/unix/data/Marra2014_data.fasta', \"r\")\n",
    "\n",
    "outputsequencefinding = open (\"/User/yeechau/Downloads/lab-work/exercise-5/outputsequencefinding.csv\", \"w\")\n",
    "total = 0\n",
    "first_line_flag = True \n",
    "for line in myfile: \n",
    "    total += line.upper().count(\"AATG\")\n",
    "    if \">contig\" in line:\n",
    "        if not first_line_flag:\n",
    "            outputsequencefinding.write(\"{}, {} \\n\".format(contig_no[1:], total))\n",
    "        first_line_flag = False\n",
    "        contig_no = line.split()[0]\n",
    "        total = 0\n",
    "outputsequencefinding.write(\"{}, {} \\n\".format(contig_no[1:], total))\n",
    "\n",
    "outputsequencefinding.close ()"
   ]
  }
 ],
 "metadata": {
  "kernelspec": {
   "display_name": "Python 3",
   "language": "python",
   "name": "python3"
  },
  "language_info": {
   "codemirror_mode": {
    "name": "ipython",
    "version": 3
   },
   "file_extension": ".py",
   "mimetype": "text/x-python",
   "name": "python",
   "nbconvert_exporter": "python",
   "pygments_lexer": "ipython3",
   "version": "3.6.0"
  }
 },
 "nbformat": 4,
 "nbformat_minor": 2
}
